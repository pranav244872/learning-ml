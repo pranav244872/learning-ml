{
  "nbformat": 4,
  "nbformat_minor": 0,
  "metadata": {
    "colab": {
      "provenance": []
    },
    "kernelspec": {
      "name": "python3",
      "display_name": "Python 3"
    },
    "language_info": {
      "name": "python"
    }
  },
  "cells": [
    {
      "cell_type": "markdown",
      "source": [
        "### Multiple Linear Regression\n",
        "\n",
        "#### 1. Definition\n",
        "Multiple linear regression is a statistical technique that models the relationship between one dependent variable and two or more independent variables. It extends simple linear regression by using multiple predictors to explain the variance in the dependent variable. The goal is to find the linear combination of the independent variables that best predicts the dependent variable.\n",
        "\n",
        "#### 2. Formula for $ \\hat{y}_i $\n",
        "The formula for the predicted value $ \\hat{y}_i $ in multiple linear regression is:\n",
        "\n",
        "$ \\hat{y}_i = \\mathbf{w} \\cdot \\mathbf{x}_i + b $\n",
        "\n",
        "where:\n",
        "- $ \\hat{y}_i $ is the predicted value of the dependent variable for the $ i $-th observation.\n",
        "- $ \\mathbf{w} $ is the vector of coefficients corresponding to the independent variables.\n",
        "- $ \\mathbf{x}_i $ is the vector of independent variables for the $ i $-th observation.\n",
        "- $ b $ is the intercept term.\n",
        "\n",
        "#### 3. Cost Function\n",
        "The cost function (Mean Squared Error) for multiple linear regression, which we aim to minimize, is given by:\n",
        "\n",
        "$$ J(\\mathbf{w}, b) = \\frac{1}{2m} \\sum_{i=1}^{m} \\left( \\hat{y}_i - y_i \\right)^2 $$\n",
        "\n",
        "where:\n",
        "- $ m $ is the number of observations.\n",
        "- $ \\hat{y}_i $ is the predicted value for the $ i $-th observation.\n",
        "- $ y_i $ is the actual value for the $ i $-th observation.\n",
        "\n",
        "#### 4. Gradient Descent Formulas\n",
        "The gradient descent update rules for the parameters $ \\mathbf{w} $ and $ b $ are given by:\n",
        "\n",
        "$ \\mathbf{w} := \\mathbf{w} - \\alpha \\frac{1}{m} \\sum_{i=1}^{m} \\left( \\hat{y}_i - y_i \\right) \\mathbf{x}_i $\n",
        "\n",
        "$ b := b - \\alpha \\frac{1}{m} \\sum_{i=1}^{m} \\left( \\hat{y}_i - y_i \\right) $\n",
        "\n",
        "#### 5. Partial Derivatives\n",
        "The partial derivative of the cost function with respect to $ \\mathbf{w} $ is given by:\n",
        "\n",
        "$ \\frac{\\partial J}{\\partial \\mathbf{w}} = \\frac{1}{m} \\sum_{i=1}^{m} \\left( (\\hat{y}_i - y_i) \\mathbf{x}_i \\right) $\n",
        "\n",
        "The partial derivative of the cost function with respect to $ b $ is given by:\n",
        "\n",
        "$ \\frac{\\partial J}{\\partial b} = \\frac{1}{m} \\sum_{i=1}^{m} (\\hat{y}_i - y_i) $\n"
      ],
      "metadata": {
        "id": "K0dIwnURvG_v"
      }
    },
    {
      "cell_type": "code",
      "source": [
        "import numpy as np\n",
        "import matplotlib.pyplot as plt\n",
        "m = 20\n",
        "target_w = 3.3\n",
        "target_b = -1.2\n",
        "X = np.random.uniform(-5,5,m)\n",
        "noise = np.random.uniform(-3,3,m)\n",
        "y = target_w * X + target_b + noise\n",
        "plt.scatter(X,y)\n",
        "plt.show()"
      ],
      "metadata": {
        "colab": {
          "base_uri": "https://localhost:8080/",
          "height": 450
        },
        "id": "kR8GTOvlyuIQ",
        "outputId": "cdea3f07-6575-4511-d4c0-6e5b10e31666"
      },
      "execution_count": 2,
      "outputs": [
        {
          "output_type": "display_data",
          "data": {
            "text/plain": [
              "<Figure size 640x480 with 1 Axes>"
            ],
            "image/png": "[encoded data removed]"
          },
          "metadata": {}
        }
      ]
    },
    {
      "cell_type": "code",
      "source": [
        "X = np.array([\n",
        "    [1,2],\n",
        "    [2,1],\n",
        "    [3,1],\n",
        "    [1,3],\n",
        "])\n",
        "y = np.array([3,6,8,7])\n",
        "X.shape,y.shape"
      ],
      "metadata": {
        "colab": {
          "base_uri": "https://localhost:8080/"
        },
        "id": "FbN-cafI2SQI",
        "outputId": "0922a48e-2ca4-4bac-9d1f-6d06987d18c7"
      },
      "execution_count": 33,
      "outputs": [
        {
          "output_type": "execute_result",
          "data": {
            "text/plain": [
              "((4, 2), (4,))"
            ]
          },
          "metadata": {},
          "execution_count": 33
        }
      ]
    },
    {
      "cell_type": "code",
      "source": [
        "w = np.array([3,2])\n",
        "b = -2"
      ],
      "metadata": {
        "id": "WfouWalF21uJ"
      },
      "execution_count": 34,
      "outputs": []
    },
    {
      "cell_type": "code",
      "source": [
        "def predict_y(X,w,b):\n",
        "  m = X.shape[0]\n",
        "  y_hat = np.zeros(m)\n",
        "  for i in range(m):\n",
        "    y_hat[i] = np.dot(w,X[i]) + b\n",
        "  return y_hat"
      ],
      "metadata": {
        "id": "L3zoZ8gY3A2k"
      },
      "execution_count": 35,
      "outputs": []
    },
    {
      "cell_type": "code",
      "source": [
        "y_hat = predict_y(X,w,b)\n",
        "y_hat, y"
      ],
      "metadata": {
        "colab": {
          "base_uri": "https://localhost:8080/"
        },
        "id": "c1DwtEDI5LM8",
        "outputId": "580d25f3-26af-4e72-97da-19c1c6a76ea7"
      },
      "execution_count": 36,
      "outputs": [
        {
          "output_type": "execute_result",
          "data": {
            "text/plain": [
              "(array([5., 6., 9., 7.]), array([3, 6, 8, 7]))"
            ]
          },
          "metadata": {},
          "execution_count": 36
        }
      ]
    },
    {
      "cell_type": "code",
      "source": [
        "def plot_true_vs_preds(X,y,w,b):\n",
        "  y_hat = predict_y(X,w,b)\n",
        "  xaxis = np.arange(0,X.shape[0],1)\n",
        "  plt.scatter(xaxis, y_hat, marker='o',color = 'g', label='y_hat')\n",
        "  plt.scatter(xaxis, y, marker='x',color = 'b', label='y_true')\n",
        "  plt.title('y_hat vs y_true')\n",
        "  plt.xlabel('index')\n",
        "  plt.ylabel('y[i] vs y_hat[i]')\n",
        "  plt.legend()\n",
        "  plt.show()\n",
        "plot_true_vs_preds(X,y,w,b)"
      ],
      "metadata": {
        "colab": {
          "base_uri": "https://localhost:8080/",
          "height": 492
        },
        "id": "M64JcM9E6Qyj",
        "outputId": "93d0a0f9-a751-479a-833f-ae869ed7146c"
      },
      "execution_count": 47,
      "outputs": [
        {
          "output_type": "display_data",
          "data": {
            "text/plain": [
              "<Figure size 640x480 with 1 Axes>"
            ],
            "image/png": "[encoded data removed]"
          },
          "metadata": {}
        }
      ]
    },
    {
      "cell_type": "code",
      "source": [
        "def cost_function(X,y,w,b):\n",
        "  m = X.shape[0]\n",
        "  y_hat = predict_y(X, w, b)\n",
        "  sum = np.sum((y_hat-y)**2)\n",
        "  res = sum / (2. * m)\n",
        "  return res\n",
        "\n",
        "cost_function(X,y,w,b)\n"
      ],
      "metadata": {
        "colab": {
          "base_uri": "https://localhost:8080/"
        },
        "id": "3s1brqpi8Ox4",
        "outputId": "bc6bd627-70ea-4b5d-fae9-738f45fb0c14"
      },
      "execution_count": 38,
      "outputs": [
        {
          "output_type": "execute_result",
          "data": {
            "text/plain": [
              "0.625"
            ]
          },
          "metadata": {},
          "execution_count": 38
        }
      ]
    },
    {
      "cell_type": "code",
      "source": [
        "def gradient_step(X,y,w,b):\n",
        "  m = X.shape[0]\n",
        "  n = X.shape[1]\n",
        "\n",
        "  dj_dw = np.zeros(n)\n",
        "  dj_db = 0\n",
        "\n",
        "  for i in range(m):\n",
        "    err = np.dot(w,X[i]) + b -y[i]\n",
        "    # for j in range(n):\n",
        "    #   dj_dw[j] += err*X[i,j]\n",
        "    dj_dw += err *X[i]\n",
        "    dj_db += err\n",
        "  dj_dw /= m\n",
        "  dj_db /= m\n",
        "\n",
        "  return dj_dw, dj_db"
      ],
      "metadata": {
        "id": "XRar44j4_Vuh"
      },
      "execution_count": 28,
      "outputs": []
    },
    {
      "cell_type": "code",
      "source": [
        "alpha = 0.01\n",
        "\n",
        "dj_dw, dj_db = gradient_step(X, y, w, b)\n",
        "w_new = w - alpha * dj_dw\n",
        "b_new = b - alpha * dj_db\n",
        "\n",
        "print(f\"Cost Before: {cost_function(X, y, w, b)}\")\n",
        "print(f\"Cost After: {cost_function(X, y, w_new, b_new)}\")\n"
      ],
      "metadata": {
        "colab": {
          "base_uri": "https://localhost:8080/"
        },
        "id": "c5s8FBC7N57q",
        "outputId": "1ec29556-6260-495f-812d-1faf9f249a9b"
      },
      "execution_count": 39,
      "outputs": [
        {
          "output_type": "stream",
          "name": "stdout",
          "text": [
            "Cost Before: 0.625\n",
            "Cost After: 0.5894578125\n"
          ]
        }
      ]
    },
    {
      "cell_type": "code",
      "source": [
        "def gradient_descent(X,y,w,b,n_iters=1000, alpha=0.01,history_interval=100):\n",
        "  m = X.shape[0]\n",
        "  history = {}\n",
        "  for iter in range(n_iters):\n",
        "    dj_dw, dj_db = gradient_step(X,y,w,b)\n",
        "    w = w - alpha*dj_dw\n",
        "    b = b - alpha*dj_db\n",
        "\n",
        "    if iter % history_interval == 0:\n",
        "      cost = cost_function(X,y,w,b)\n",
        "      history[iter] = cost\n",
        "      print(f\"Iteration\\t{iter}\\tCost\\t{cost}\")\n",
        "  return history,w,b\n"
      ],
      "metadata": {
        "id": "epHyJnWWRh51"
      },
      "execution_count": 42,
      "outputs": []
    },
    {
      "cell_type": "code",
      "source": [
        "history, w_new, b_new = gradient_descent(X, y, w, b)"
      ],
      "metadata": {
        "colab": {
          "base_uri": "https://localhost:8080/"
        },
        "id": "OlEQ_ocBT8Ho",
        "outputId": "a3ee3aab-c957-4de2-bf90-a399ac5257d0"
      },
      "execution_count": 43,
      "outputs": [
        {
          "output_type": "stream",
          "name": "stdout",
          "text": [
            "Iteration\t0\tCost\t0.5894578125\n",
            "Iteration\t100\tCost\t0.36823951957889617\n",
            "Iteration\t200\tCost\t0.36634556681700137\n",
            "Iteration\t300\tCost\t0.36451602962844637\n",
            "Iteration\t400\tCost\t0.36274865552077584\n",
            "Iteration\t500\tCost\t0.3610413323485339\n",
            "Iteration\t600\tCost\t0.3593920197316842\n",
            "Iteration\t700\tCost\t0.3577987466171816\n",
            "Iteration\t800\tCost\t0.3562596089234168\n",
            "Iteration\t900\tCost\t0.3547727672646914\n"
          ]
        }
      ]
    },
    {
      "cell_type": "code",
      "source": [
        "history"
      ],
      "metadata": {
        "colab": {
          "base_uri": "https://localhost:8080/"
        },
        "id": "SpreQs81T81z",
        "outputId": "c5ee1ac0-6722-4a00-bce6-ec8447772229"
      },
      "execution_count": 44,
      "outputs": [
        {
          "output_type": "execute_result",
          "data": {
            "text/plain": [
              "{0: 0.5894578125,\n",
              " 100: 0.36823951957889617,\n",
              " 200: 0.36634556681700137,\n",
              " 300: 0.36451602962844637,\n",
              " 400: 0.36274865552077584,\n",
              " 500: 0.3610413323485339,\n",
              " 600: 0.3593920197316842,\n",
              " 700: 0.3577987466171816,\n",
              " 800: 0.3562596089234168,\n",
              " 900: 0.3547727672646914}"
            ]
          },
          "metadata": {},
          "execution_count": 44
        }
      ]
    },
    {
      "cell_type": "code",
      "source": [
        "def plot_history(history):\n",
        "    plt.figure(figsize=(4,3))\n",
        "    plt.plot(history.keys(), history.values())\n",
        "    plt.title('Cost History')\n",
        "    plt.xlabel('Iteration')\n",
        "    plt.ylabel('Cost')\n",
        "    plt.show()\n",
        "plot_history(history)"
      ],
      "metadata": {
        "colab": {
          "base_uri": "https://localhost:8080/",
          "height": 353
        },
        "id": "4Heg-NzDUI11",
        "outputId": "f3ae9eef-3618-4c89-b439-2bf02395d6a5"
      },
      "execution_count": 45,
      "outputs": [
        {
          "output_type": "display_data",
          "data": {
            "text/plain": [
              "<Figure size 400x300 with 1 Axes>"
            ],
            "image/png": "[encoded data removed]"
          },
          "metadata": {}
        }
      ]
    },
    {
      "cell_type": "code",
      "source": [
        "plot_true_vs_preds(X,y,w_new,b_new)"
      ],
      "metadata": {
        "colab": {
          "base_uri": "https://localhost:8080/",
          "height": 492
        },
        "id": "UZ3gViJiUYql",
        "outputId": "9a9bc1a1-1dff-4a87-ff1d-cddb1fa31ff4"
      },
      "execution_count": 48,
      "outputs": [
        {
          "output_type": "display_data",
          "data": {
            "text/plain": [
              "<Figure size 640x480 with 1 Axes>"
            ],
            "image/png": "[encoded data removed]"
          },
          "metadata": {}
        }
      ]
    },
    {
      "cell_type": "code",
      "source": [],
      "metadata": {
        "id": "JrEVzPZ9Umz9"
      },
      "execution_count": null,
      "outputs": []
    }
  ]
}